{
 "cells": [
  {
   "cell_type": "code",
   "execution_count": 2,
   "metadata": {},
   "outputs": [],
   "source": [
    "import matplotlib.pyplot as plt\n",
    "import numpy as np"
   ]
  },
  {
   "cell_type": "code",
   "execution_count": 1,
   "metadata": {},
   "outputs": [],
   "source": [
    "# Reference Masses - 1g and 10g\n",
    "center = [\n",
    "    [0, 1.00, 10.00, 11.00],\n",
    "    [0, 1.00, 10.00, 11.00],\n",
    "]\n",
    "bottleft = [\n",
    "    [0, 1.01, 10.00, 11.05],\n",
    "    [0, 1.01, 10.00, 11.05],\n",
    "]\n",
    "bottright = [\n",
    "    [0, 1.00, 10.00, 11.05],\n",
    "    [0, 1.00, 10.00, 11.00],\n",
    "]\n",
    "topleft = [\n",
    "    [0, 1.01, 10.00, 11.05],\n",
    "    [0, 1.00, 10.05, 11.04],\n",
    "]\n",
    "topright = [\n",
    "    [0, 1.01, 10.04, 11.07],\n",
    "    [0, 1.00, 10.00, 11.00],\n",
    "]\n",
    "# Platform weight\n",
    "platform = [43.55, 43.55] # normal, upside down"
   ]
  }
 ],
 "metadata": {
  "kernelspec": {
   "display_name": "Python 3",
   "language": "python",
   "name": "python3"
  },
  "language_info": {
   "codemirror_mode": {
    "name": "ipython",
    "version": 3
   },
   "file_extension": ".py",
   "mimetype": "text/x-python",
   "name": "python",
   "nbconvert_exporter": "python",
   "pygments_lexer": "ipython3",
   "version": "3.11.1"
  }
 },
 "nbformat": 4,
 "nbformat_minor": 2
}
